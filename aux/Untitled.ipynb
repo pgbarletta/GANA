{
 "cells": [
  {
   "cell_type": "code",
   "execution_count": 1,
   "metadata": {},
   "outputs": [],
   "source": [
    "#include <fmt/format.h>\n",
    "#include <iostream>\n"
   ]
  },
  {
   "cell_type": "code",
   "execution_count": 2,
   "metadata": {},
   "outputs": [],
   "source": [
    "class point {\n",
    "public:\n",
    "        point() = default;\n",
    "        point(float x, float y, float z) : _xyz{x, y, z} {}\n",
    "        // point(double x, double y, double z) :\n",
    "        // _x( static_cast<float>(x) ),\n",
    "        // _y( static_cast<float>(y) ),\n",
    "        // _z( static_cast<float>(z) ) {}\n",
    "        // point(Point p) : _x(p.x()), _y(p.y()), _z(p.z()) {}\n",
    "\n",
    "        // Draw atom.\n",
    "        void draw(FILE *out_file, unsigned int idx, unsigned int resid) {\n",
    "\t\t    fmt::print(\n",
    "                out_file,\n",
    "                \"{: <6}{: >5} {: <4s} {:3} {:1}{: >4}    {:8.3f}{:8.3f}{:8.3f}{:6.2f}{:6.2f}          {: >2s}\\n\",\n",
    "                \"HETATM\", idx, \"H\", \"GPU\", \"A\", resid, _xyz[0], _xyz[1], _xyz[2], 1.0, 0.0, \"H\"\n",
    "\t\t\t    );\n",
    "\t\t    return;\n",
    "        }\n",
    "\n",
    "    float &operator[](int idx);\n",
    "    float operator[](int idx) const;\n",
    "    \n",
    "private:\n",
    "    float _xyz[3];\n",
    "};"
   ]
  },
  {
   "cell_type": "code",
   "execution_count": 4,
   "metadata": {},
   "outputs": [
    {
     "name": "stderr",
     "output_type": "stream",
     "text": [
      "\u001b[1minput_line_10:2:37: \u001b[0m\u001b[0;1;31merror: \u001b[0m\u001b[1mfunction definition is not allowed here\u001b[0m\n",
      " float &point::operator[] (int idx) {\n",
      "\u001b[0;1;32m                                    ^\n",
      "\u001b[0m"
     ]
    },
    {
     "ename": "Interpreter Error",
     "evalue": "",
     "output_type": "error",
     "traceback": [
      "Interpreter Error: "
     ]
    }
   ],
   "source": []
  },
  {
   "cell_type": "code",
   "execution_count": null,
   "metadata": {},
   "outputs": [],
   "source": []
  },
  {
   "cell_type": "code",
   "execution_count": null,
   "metadata": {},
   "outputs": [],
   "source": []
  }
 ],
 "metadata": {
  "kernelspec": {
   "display_name": "C++17",
   "language": "C++17",
   "name": "xeus-cling-cpp17"
  },
  "language_info": {
   "codemirror_mode": "text/x-c++src",
   "file_extension": ".cpp",
   "mimetype": "text/x-c++src",
   "name": "c++",
   "version": "-std=c++17"
  }
 },
 "nbformat": 4,
 "nbformat_minor": 2
}
